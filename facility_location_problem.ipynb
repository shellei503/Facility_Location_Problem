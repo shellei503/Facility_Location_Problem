{
 "cells": [
  {
   "cell_type": "markdown",
   "source": [
    "# Upcapacited Facility Location Problem\n",
    "\n",
    "## Background\n",
    "\n",
    "* You are deciding on five new potiental sites to build an FC.\n",
    "* You have a set of customer demands (individual customer orders) that you plan to fulfill from these FCs\n",
    "* Every customer order incurs a shipping cost. \n",
    "* Shipping cost for each cutomer order = (distance from FC to customer destination)/$100\n",
    "* We assume all customer orders are the same (no product variation)\n",
    "* Each facility that is opened will incur a one time fixed cost for construction\n",
    "* We assume facilities are uncapacitited\n",
    "\n",
    "## Problem statement\n",
    "* Which five sites should you open to minimize overall costs while still being able to statify customer demand?\n"
   ],
   "metadata": {
    "collapsed": false
   }
  },
  {
   "cell_type": "markdown",
   "source": [
    "# Mathematical Formulation"
   ],
   "metadata": {
    "collapsed": false
   }
  },
  {
   "cell_type": "markdown",
   "source": [
    "### <font color=green>  Decision Variables"
   ],
   "metadata": {
    "collapsed": false
   }
  },
  {
   "cell_type": "markdown",
   "source": [
    "<div class=\"alert alert-block alert-warning\">\n",
    "<b>Decision Variables:</b> $x_{ij}$ and $y_{c}$\n",
    "\n",
    "Let $x_{ij}$ = the number of orders to ship from facility ${i}$ to customer destination ${j}$<br>\n",
    "Let $y_{i}$ = 1 if facility ${i}$ is selected, 0 otherwise<br>\n",
    "    \n",
    "<br>\n",
    "$x_{ij}\\in {\\rm I\\!R}$<br>\n",
    "$y_{i}\\in (0,1)$<br>\n",
    "</div>"
   ],
   "metadata": {
    "collapsed": false
   }
  },
  {
   "cell_type": "markdown",
   "source": [
    "### <font color=green>  Parameters"
   ],
   "metadata": {
    "collapsed": false
   }
  },
  {
   "cell_type": "markdown",
   "source": [
    "<div class=\"alert alert-block alert-warning\">\n",
    "Let $I$ be the set of possible FC locations to choose from <br>\n",
    "Let $J$ be the set of all customers <br>\n",
    "Let $N$ = the total number of facilities to open<br><br>\n",
    "\n",
    "Let $f_i$ be the setup cost for constructing facility $i$<br>\n",
    "Let $c_{ij}$ be the cost of shipping an order from facility $i$ to customer $j$<br>\n",
    "Let $d_{j}$ be the demand from customer j<br>\n",
    "\n",
    "</div>"
   ],
   "metadata": {
    "collapsed": false
   }
  },
  {
   "cell_type": "markdown",
   "source": [
    "### <font color=green>  Objective Function"
   ],
   "metadata": {
    "collapsed": false
   }
  },
  {
   "cell_type": "markdown",
   "source": [
    "<div class=\"alert alert-block alert-warning\">\n",
    "<b>Objective Function:</b> Minimize Z = startup_cost + transportation_cost\n",
    "\n",
    "\n",
    "$$ Z = \\sum_{j \\: \\in \\:I} f_iy_i + \\sum_{i \\: \\in \\:I}\\sum_{j \\: \\in \\:J}c_{ij}x_{ij}$$ \n",
    "\n",
    "</div>"
   ],
   "metadata": {
    "collapsed": false
   }
  },
  {
   "cell_type": "markdown",
   "source": [
    "### <font color=green>  Constraints"
   ],
   "metadata": {
    "collapsed": false
   }
  },
  {
   "cell_type": "markdown",
   "source": [
    "<div class=\"alert alert-block alert-warning\">\n",
    "<b>Cosntratint 1:</b> all demand must be met\n",
    "\n",
    "$$ \n",
    "\\sum_{i \\: \\in \\:I} x_{ij} = d_j \n",
    "\\qquad \\forall  \\enspace j \\: \\in \\: J\n",
    "$$ \n",
    "\n",
    "</div>"
   ],
   "metadata": {
    "collapsed": false
   }
  },
  {
   "cell_type": "markdown",
   "source": [
    "<div class=\"alert alert-block alert-warning\">\n",
    "<b>Cosntratint 2:</b> shipments can only be made from sites that have been selected to open\n",
    "\n",
    "$$ \n",
    "\\sum_{j \\: \\in \\:J} x_{ij} \\leq M_iy_i\n",
    "\\qquad \\forall  \\enspace i \\: \\in \\: I; \n",
    "$$ \n",
    "\n",
    "</div>"
   ],
   "metadata": {
    "collapsed": false
   }
  },
  {
   "cell_type": "markdown",
   "source": [
    "<div class=\"alert alert-block alert-warning\">\n",
    "<b>Cosntratint 3:</b> Exactly N new sites must be opened (5)\n",
    "\n",
    "$$ \n",
    "\\sum_{i \\: \\in \\:I} y_i = N \n",
    "$$ \n",
    "\n",
    "\n",
    "</div>"
   ],
   "metadata": {
    "collapsed": false
   }
  },
  {
   "cell_type": "markdown",
   "source": [
    "<div class=\"alert alert-block alert-warning\">\n",
    "<b>Cosntratint 4:</b>\n",
    "\n",
    "$$ \n",
    "x_{ij} \\geq 0 \n",
    "\\qquad \\forall  \\enspace i \\: \\epsilon \\: I; \n",
    "\\enspace j \\: \\epsilon \\: J\n",
    "$$ \n",
    "\n",
    "$$ \n",
    "y_{j} \\in {0,1}\n",
    "$$ \n",
    "\n",
    "\n",
    "</div>"
   ],
   "metadata": {
    "collapsed": false
   }
  },
  {
   "cell_type": "markdown",
   "source": [
    "# CPlex/Python LP Model"
   ],
   "metadata": {
    "collapsed": false
   }
  },
  {
   "cell_type": "markdown",
   "source": [
    "### Import packages"
   ],
   "metadata": {
    "collapsed": false
   }
  },
  {
   "cell_type": "code",
   "execution_count": null,
   "outputs": [],
   "source": [
    "import pandas as pd\n",
    "import numpy as np\n",
    "from docplex.mp.model import Model\n",
    "import math"
   ],
   "metadata": {
    "collapsed": false,
    "pycharm": {
     "name": "#%%\n"
    }
   }
  },
  {
   "cell_type": "markdown",
   "source": [
    "### Intializing the data"
   ],
   "metadata": {
    "collapsed": false
   }
  },
  {
   "cell_type": "code",
   "execution_count": null,
   "outputs": [],
   "source": [
    "# reading in external data\n",
    "facility_df = pd.read_csv('facility_data.csv')\n",
    "customer_df = pd.read_csv('customer_data.csv')"
   ],
   "metadata": {
    "collapsed": false,
    "pycharm": {
     "name": "#%%\n"
    }
   }
  },
  {
   "cell_type": "code",
   "execution_count": null,
   "outputs": [],
   "source": [
    "# caluclating distance\n",
    "facility_df['key'] = 1\n",
    "customer_df['key'] = 1\n",
    "result = pd.merge(facility_df, customer_df, on ='key').drop(\"key\", 1) \n",
    "result['temp_x'] = (result['facility_x'] - result['customer_x'])**2 \n",
    "result['temp_y'] = (result['facility_y'] - result['customer_y'])**2 \n",
    "result['temp_x_y'] = (result['temp_x'] + result['temp_y'])\n",
    "result['distance'] = round(np.sqrt(result['temp_x_y']),2)\n",
    "distance_df = result.copy()[['facility','customer','distance']]\n",
    "distance_df.head()"
   ],
   "metadata": {
    "collapsed": false,
    "pycharm": {
     "name": "#%%\n"
    }
   }
  },
  {
   "cell_type": "code",
   "execution_count": null,
   "outputs": [],
   "source": [
    "# for use in model \n",
    "distance = dict([((t.facility, t.customer),t.distance ) for t in distance_df.itertuples()])\n",
    "setup_cost = dict([((t.facility),t.setup_cost ) for t in facility_df.itertuples()])\n",
    "demand = dict([((t.customer),t.demand ) for t in customer_df.itertuples()])\n",
    "fc =  set(facility_df['facility'])\n",
    "customer =  set(customer_df['customer'])\n",
    "edges = [(i, j) for i in fc for j in customer]\n",
    "N = 5 # number of sits to open\n",
    "M = round(distance_df['distance'].max()+100,0)"
   ],
   "metadata": {
    "collapsed": false,
    "pycharm": {
     "name": "#%%\n"
    }
   }
  },
  {
   "cell_type": "markdown",
   "source": [
    "### Create the model"
   ],
   "metadata": {
    "collapsed": false
   }
  },
  {
   "cell_type": "code",
   "execution_count": null,
   "outputs": [],
   "source": [
    "m=Model('TSP')"
   ],
   "metadata": {
    "collapsed": false,
    "pycharm": {
     "name": "#%%\n"
    }
   }
  },
  {
   "cell_type": "markdown",
   "source": [
    "#### <font color=green>  Decision Variables"
   ],
   "metadata": {
    "collapsed": false
   }
  },
  {
   "cell_type": "code",
   "execution_count": null,
   "outputs": [],
   "source": [
    "x = m.continuous_var_dict(edges, name ='assignment')  \n",
    "y = m.binary_var_dict(fc, name = 'fc')"
   ],
   "metadata": {
    "collapsed": false,
    "pycharm": {
     "name": "#%%\n"
    }
   }
  },
  {
   "cell_type": "markdown",
   "source": [
    "#### <font color=green>  Objective Function"
   ],
   "metadata": {
    "collapsed": false
   }
  },
  {
   "cell_type": "code",
   "execution_count": null,
   "outputs": [],
   "source": [
    "trans_cost = m.sum(distance[e]*x[e] for e in edges)\n",
    "startup_cost = m.sum(setup_cost[i]*y[i] for i in fc)\n",
    "m.minimize(startup_cost + trans_cost)"
   ],
   "metadata": {
    "collapsed": false,
    "pycharm": {
     "name": "#%%\n"
    }
   }
  },
  {
   "cell_type": "markdown",
   "source": [
    "#### <font color=green>  Constraints"
   ],
   "metadata": {
    "collapsed": false
   }
  },
  {
   "cell_type": "code",
   "execution_count": null,
   "outputs": [],
   "source": [
    "# Constraint 1: all demand must be met\n",
    "for j in customer:\n",
    "    m.add_constraint(m.sum(x[(i,j)] for i in fc) == demand[j], ctname='demand_%d'%j)\n",
    "\n",
    "# Constraint 2: shipments can only be made if the site has been opened\n",
    "for i in fc:\n",
    "    m.add_constraint(m.sum(x[(i,j)] for j in customer) <= M*y[i], ctname='lane_%d'%i)\n",
    "    \n",
    "# Constraint 3: exactly five sites must be opened\n",
    "m.add_constraint(m.sum(y[(i)] for i in fc) == N, ctname='num_sites')\n",
    "    \n",
    "       "
   ],
   "metadata": {
    "collapsed": false,
    "pycharm": {
     "name": "#%%\n"
    }
   }
  },
  {
   "cell_type": "code",
   "execution_count": null,
   "outputs": [],
   "source": [
    "print(m.export_to_string())"
   ],
   "metadata": {
    "collapsed": false,
    "pycharm": {
     "name": "#%%\n"
    }
   }
  },
  {
   "cell_type": "code",
   "execution_count": null,
   "outputs": [],
   "source": [
    "m.parameters.timelimit=120\n",
    "m.parameters.mip.strategy.branch=1\n",
    "m.parameters.mip.tolerances.mipgap=0.15\n",
    "\n",
    "solution = m.solve(log_output=True)"
   ],
   "metadata": {
    "collapsed": false,
    "pycharm": {
     "name": "#%%\n"
    }
   }
  },
  {
   "cell_type": "code",
   "execution_count": null,
   "outputs": [],
   "source": [
    "m.get_solve_status()\n"
   ],
   "metadata": {
    "collapsed": false,
    "pycharm": {
     "name": "#%%\n"
    }
   }
  },
  {
   "cell_type": "code",
   "execution_count": null,
   "outputs": [],
   "source": [
    "solution.display()"
   ],
   "metadata": {
    "collapsed": false,
    "pycharm": {
     "name": "#%%\n"
    }
   }
  },
  {
   "cell_type": "code",
   "execution_count": null,
   "outputs": [],
   "source": [],
   "metadata": {
    "collapsed": false,
    "pycharm": {
     "name": "#%%\n"
    }
   }
  },
  {
   "cell_type": "code",
   "execution_count": null,
   "outputs": [],
   "source": [],
   "metadata": {
    "collapsed": false,
    "pycharm": {
     "name": "#%%\n"
    }
   }
  },
  {
   "cell_type": "code",
   "execution_count": null,
   "outputs": [],
   "source": [],
   "metadata": {
    "collapsed": false,
    "pycharm": {
     "name": "#%%\n"
    }
   }
  },
  {
   "cell_type": "code",
   "execution_count": null,
   "outputs": [],
   "source": [],
   "metadata": {
    "collapsed": false,
    "pycharm": {
     "name": "#%%\n"
    }
   }
  },
  {
   "cell_type": "code",
   "execution_count": null,
   "outputs": [],
   "source": [
    "# Export results to csv\n",
    "import os\n",
    "\n",
    "base_dir = os.getcwd()\n",
    "\n",
    "def export_soln_to_csv(df, model_name = 'untitled'):\n",
    "    \"\"\" model refers to model object from docplex.mp.model\"\"\"\n",
    "\n",
    "    try:\n",
    "        os.mkdir(os.path.join(base_dir, 'output'))\n",
    "    except:\n",
    "        pass\n",
    "\n",
    "    filename = 'output/' + 'soln_' + model_name + '.csv'\n",
    "    solution_output = os.path.join(os.getcwd(), filename)\n",
    "    df.to_csv(solution_output, index=False)"
   ],
   "metadata": {
    "collapsed": false,
    "pycharm": {
     "name": "#%%\n"
    }
   }
  }
 ],
 "metadata": {
  "kernelspec": {
   "display_name": "Python 3",
   "language": "python",
   "name": "python3"
  },
  "language_info": {
   "codemirror_mode": {
    "name": "ipython",
    "version": 3
   },
   "file_extension": ".py",
   "mimetype": "text/x-python",
   "name": "python",
   "nbconvert_exporter": "python",
   "pygments_lexer": "ipython3",
   "version": "3.7.6"
  },
  "toc": {
   "base_numbering": 1,
   "nav_menu": {},
   "number_sections": true,
   "sideBar": true,
   "skip_h1_title": false,
   "title_cell": "Table of Contents",
   "title_sidebar": "Contents",
   "toc_cell": false,
   "toc_position": {},
   "toc_section_display": true,
   "toc_window_display": false
  }
 },
 "nbformat": 4,
 "nbformat_minor": 1
}